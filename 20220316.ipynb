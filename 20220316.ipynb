{
  "nbformat": 4,
  "nbformat_minor": 0,
  "metadata": {
    "colab": {
      "name": "20220316.ipynb",
      "provenance": [],
      "authorship_tag": "ABX9TyPTq4wTr2AvtILp1y/ux1Ey",
      "include_colab_link": true
    },
    "kernelspec": {
      "name": "python3",
      "display_name": "Python 3"
    },
    "language_info": {
      "name": "python"
    }
  },
  "cells": [
    {
      "cell_type": "markdown",
      "metadata": {
        "id": "view-in-github",
        "colab_type": "text"
      },
      "source": [
        "<a href=\"https://colab.research.google.com/github/sunminkim18/class2022Spring/blob/main/20220316.ipynb\" target=\"_parent\"><img src=\"https://colab.research.google.com/assets/colab-badge.svg\" alt=\"Open In Colab\"/></a>"
      ]
    },
    {
      "cell_type": "markdown",
      "source": [
        "변수: number, strings 문자, list, tuple, dict"
      ],
      "metadata": {
        "id": "s4KU-UE9BcOn"
      }
    },
    {
      "cell_type": "code",
      "source": [
        "a = 1 ; print(type(a))"
      ],
      "metadata": {
        "colab": {
          "base_uri": "https://localhost:8080/"
        },
        "id": "wMwATLEm8T5-",
        "outputId": "00f0ed1f-1aff-4e0f-9237-1a249837d0a5"
      },
      "execution_count": 10,
      "outputs": [
        {
          "output_type": "stream",
          "name": "stdout",
          "text": [
            "<class 'int'>\n"
          ]
        }
      ]
    },
    {
      "cell_type": "code",
      "source": [
        "a=1.1 ; print(type(a))"
      ],
      "metadata": {
        "colab": {
          "base_uri": "https://localhost:8080/"
        },
        "id": "z4qTmTmZ8ajX",
        "outputId": "9d43c0fc-fea4-4f72-a4c3-9d7081a99e74"
      },
      "execution_count": 11,
      "outputs": [
        {
          "output_type": "stream",
          "name": "stdout",
          "text": [
            "<class 'float'>\n"
          ]
        }
      ]
    },
    {
      "cell_type": "code",
      "source": [
        "a='1234';print(type(a));print(a[2])"
      ],
      "metadata": {
        "colab": {
          "base_uri": "https://localhost:8080/"
        },
        "id": "wRZcCl2f8jlW",
        "outputId": "ea2b7b53-0890-42cb-c60b-465254eef9f2"
      },
      "execution_count": 12,
      "outputs": [
        {
          "output_type": "stream",
          "name": "stdout",
          "text": [
            "<class 'str'>\n",
            "3\n"
          ]
        }
      ]
    },
    {
      "cell_type": "code",
      "source": [
        "a=[1,'a',2,'b',[3,'c']];print(type(a));print(a[2]);print(a[4][1])"
      ],
      "metadata": {
        "colab": {
          "base_uri": "https://localhost:8080/"
        },
        "id": "if-QhxxT8t1U",
        "outputId": "d92a5b55-ce1b-4bfb-b55f-ab01a7014c11"
      },
      "execution_count": 13,
      "outputs": [
        {
          "output_type": "stream",
          "name": "stdout",
          "text": [
            "<class 'list'>\n",
            "2\n",
            "c\n"
          ]
        }
      ]
    },
    {
      "cell_type": "code",
      "source": [
        "a=(1,2,3);print(type(a));print(a[0])"
      ],
      "metadata": {
        "colab": {
          "base_uri": "https://localhost:8080/"
        },
        "id": "F98Yq3jQ81T0",
        "outputId": "5b18f202-2779-4b3d-8fe5-e1389530c0d2"
      },
      "execution_count": 14,
      "outputs": [
        {
          "output_type": "stream",
          "name": "stdout",
          "text": [
            "<class 'tuple'>\n",
            "1\n"
          ]
        }
      ]
    },
    {
      "cell_type": "code",
      "source": [
        "a={'b':'bear','c':'cat','d':'dog'} ; print(type(a));print(a['d'])"
      ],
      "metadata": {
        "colab": {
          "base_uri": "https://localhost:8080/"
        },
        "id": "L6tyQAh085Xk",
        "outputId": "a2476402-63de-4605-a1be-a1a32620d59f"
      },
      "execution_count": 15,
      "outputs": [
        {
          "output_type": "stream",
          "name": "stdout",
          "text": [
            "<class 'dict'>\n",
            "dog\n"
          ]
        }
      ]
    },
    {
      "cell_type": "code",
      "execution_count": 1,
      "metadata": {
        "colab": {
          "base_uri": "https://localhost:8080/"
        },
        "id": "h2cqqdBC5U3W",
        "outputId": "ff1c75f4-038b-4563-c60f-ac7a13f27a22"
      },
      "outputs": [
        {
          "output_type": "stream",
          "name": "stdout",
          "text": [
            "1\n",
            "2\n",
            "3\n",
            "4\n"
          ]
        }
      ],
      "source": [
        "a = [1, 2, 3, 4]\n",
        "for i in a:\n",
        "    print(i) #list a의 첫번쨰 값부터 마지막 값까지 반복되며 출력"
      ]
    },
    {
      "cell_type": "code",
      "source": [
        "a = [1, 2, 3, 4]\n",
        "for i in range(len(a)):\n",
        "    print(a[i])"
      ],
      "metadata": {
        "colab": {
          "base_uri": "https://localhost:8080/"
        },
        "id": "V28Bz4HE52tX",
        "outputId": "048a70e8-32ba-46b7-d16a-db400c088efb"
      },
      "execution_count": 2,
      "outputs": [
        {
          "output_type": "stream",
          "name": "stdout",
          "text": [
            "1\n",
            "2\n",
            "3\n",
            "4\n"
          ]
        }
      ]
    },
    {
      "cell_type": "code",
      "source": [
        "a = ['god','red', 'apple', 'sunny']\n",
        "b = [i for i in a if len(i) >= 4]\n",
        "print(i)"
      ],
      "metadata": {
        "colab": {
          "base_uri": "https://localhost:8080/"
        },
        "id": "Zlh-xxum57Ve",
        "outputId": "9d87328d-c7c2-48bc-973b-783a2e7a3c88"
      },
      "execution_count": 29,
      "outputs": [
        {
          "output_type": "stream",
          "name": "stdout",
          "text": [
            "3\n"
          ]
        }
      ]
    },
    {
      "cell_type": "code",
      "source": [
        "import numpy as np ; n= np.random.randn(100)"
      ],
      "metadata": {
        "id": "VDWx7YQk6CpF"
      },
      "execution_count": 4,
      "outputs": []
    },
    {
      "cell_type": "code",
      "source": [
        "import matplotlib.pyplot as plt"
      ],
      "metadata": {
        "id": "HgM5E8n66I4o"
      },
      "execution_count": 5,
      "outputs": []
    },
    {
      "cell_type": "code",
      "source": [
        "plt.hist(n)"
      ],
      "metadata": {
        "colab": {
          "base_uri": "https://localhost:8080/",
          "height": 352
        },
        "id": "SpHXAt176NNS",
        "outputId": "02ea743c-e422-4617-9a5d-7b3c3df11c96"
      },
      "execution_count": 6,
      "outputs": [
        {
          "output_type": "execute_result",
          "data": {
            "text/plain": [
              "(array([ 4.,  3.,  9., 20., 20., 22., 11.,  8.,  2.,  1.]),\n",
              " array([-2.55270421, -1.97160518, -1.39050615, -0.80940713, -0.2283081 ,\n",
              "         0.35279093,  0.93388995,  1.51498898,  2.09608801,  2.67718703,\n",
              "         3.25828606]),\n",
              " <a list of 10 Patch objects>)"
            ]
          },
          "metadata": {},
          "execution_count": 6
        },
        {
          "output_type": "display_data",
          "data": {
            "text/plain": [
              "<Figure size 432x288 with 1 Axes>"
            ],
            "image/png": "[encoded data removed]"
          },
          "metadata": {
            "needs_background": "light"
          }
        }
      ]
    },
    {
      "cell_type": "code",
      "source": [
        "from matplotlib import pyplot\n",
        "pyplot.hist(n)"
      ],
      "metadata": {
        "colab": {
          "base_uri": "https://localhost:8080/",
          "height": 352
        },
        "id": "qBTvrrXB6h76",
        "outputId": "d82036fb-7649-4c0d-f01f-4dff146ce013"
      },
      "execution_count": 7,
      "outputs": [
        {
          "output_type": "execute_result",
          "data": {
            "text/plain": [
              "(array([ 4.,  3.,  9., 20., 20., 22., 11.,  8.,  2.,  1.]),\n",
              " array([-2.55270421, -1.97160518, -1.39050615, -0.80940713, -0.2283081 ,\n",
              "         0.35279093,  0.93388995,  1.51498898,  2.09608801,  2.67718703,\n",
              "         3.25828606]),\n",
              " <a list of 10 Patch objects>)"
            ]
          },
          "metadata": {},
          "execution_count": 7
        },
        {
          "output_type": "display_data",
          "data": {
            "text/plain": [
              "<Figure size 432x288 with 1 Axes>"
            ],
            "image/png": "[encoded data removed]"
          },
          "metadata": {
            "needs_background": "light"
          }
        }
      ]
    },
    {
      "cell_type": "code",
      "source": [
        "x = np.array([0, 2, 3])\n",
        "print(x)\n",
        "print(type(x))\n",
        "print(x.shape)"
      ],
      "metadata": {
        "colab": {
          "base_uri": "https://localhost:8080/"
        },
        "id": "vmHuUaF26nZJ",
        "outputId": "ca1edfb4-1ea2-4ee5-ca9d-2814aa59676d"
      },
      "execution_count": 8,
      "outputs": [
        {
          "output_type": "stream",
          "name": "stdout",
          "text": [
            "[0 2 3]\n",
            "<class 'numpy.ndarray'>\n",
            "(3,)\n"
          ]
        }
      ]
    },
    {
      "cell_type": "code",
      "source": [
        "x = np.arange(0, 3, 1)\n",
        "print(x)\n",
        "print(type(x))\n",
        "print(x.shape)"
      ],
      "metadata": {
        "colab": {
          "base_uri": "https://localhost:8080/"
        },
        "id": "AMKRepiU6v66",
        "outputId": "b3097cce-5e80-48d5-9161-5db510ef1ece"
      },
      "execution_count": 9,
      "outputs": [
        {
          "output_type": "stream",
          "name": "stdout",
          "text": [
            "[0 1 2]\n",
            "<class 'numpy.ndarray'>\n",
            "(3,)\n"
          ]
        }
      ]
    },
    {
      "cell_type": "code",
      "source": [
        "x = np.linspace(0, 100, 5)\n",
        "print(x)\n",
        "print(type(x)) ; print(x.shape)"
      ],
      "metadata": {
        "colab": {
          "base_uri": "https://localhost:8080/"
        },
        "id": "A6SJzhyY6x0y",
        "outputId": "3bf60cc9-1b30-4aac-bab5-aaedd3a7002f"
      },
      "execution_count": 18,
      "outputs": [
        {
          "output_type": "stream",
          "name": "stdout",
          "text": [
            "[  0.  25.  50.  75. 100.]\n",
            "<class 'numpy.ndarray'>\n",
            "(5,)\n"
          ]
        }
      ]
    },
    {
      "cell_type": "code",
      "source": [
        "x = np.array([[1, 2, 3], [2, 3, 5], [5, 6, 7]])\n",
        "print(x) ; print(type(x))\n",
        "x.shape"
      ],
      "metadata": {
        "colab": {
          "base_uri": "https://localhost:8080/"
        },
        "id": "Py9OvmPT-zty",
        "outputId": "d0a94f08-844f-4e3c-97a7-4f3f31cb71bb"
      },
      "execution_count": 19,
      "outputs": [
        {
          "output_type": "stream",
          "name": "stdout",
          "text": [
            "[[1 2 3]\n",
            " [2 3 5]\n",
            " [5 6 7]]\n",
            "<class 'numpy.ndarray'>\n"
          ]
        },
        {
          "output_type": "execute_result",
          "data": {
            "text/plain": [
              "(3, 3)"
            ]
          },
          "metadata": {},
          "execution_count": 19
        }
      ]
    },
    {
      "cell_type": "code",
      "source": [
        "x = np.array([[[1, 2, 2],[1, 3, 4]],[[1,2,3],[3,4,5]]])\n",
        "print(x)\n",
        "x.shape"
      ],
      "metadata": {
        "colab": {
          "base_uri": "https://localhost:8080/"
        },
        "id": "T8amjq6V-2xl",
        "outputId": "88d4f290-bbc7-4266-abc9-1146f40125e3"
      },
      "execution_count": 20,
      "outputs": [
        {
          "output_type": "stream",
          "name": "stdout",
          "text": [
            "[[[1 2 2]\n",
            "  [1 3 4]]\n",
            "\n",
            " [[1 2 3]\n",
            "  [3 4 5]]]\n"
          ]
        },
        {
          "output_type": "execute_result",
          "data": {
            "text/plain": [
              "(2, 2, 3)"
            ]
          },
          "metadata": {},
          "execution_count": 20
        }
      ]
    },
    {
      "cell_type": "code",
      "source": [
        "z = np.array([[1,2,3],[1,2,4]])\n",
        "print(z)\n",
        "z.shape"
      ],
      "metadata": {
        "colab": {
          "base_uri": "https://localhost:8080/"
        },
        "id": "JZ1gp8jg-54D",
        "outputId": "d7538925-8e8c-43c2-f259-6c722e2dc275"
      },
      "execution_count": 21,
      "outputs": [
        {
          "output_type": "stream",
          "name": "stdout",
          "text": [
            "[[1 2 3]\n",
            " [1 2 4]]\n"
          ]
        },
        {
          "output_type": "execute_result",
          "data": {
            "text/plain": [
              "(2, 3)"
            ]
          },
          "metadata": {},
          "execution_count": 21
        }
      ]
    },
    {
      "cell_type": "code",
      "source": [
        "x = np.ones([2, 2, 3]) \n",
        "print(x)\n",
        "print(x.shape)\n",
        "\n",
        "\n",
        "z = np.array([1, 2, 3])\n",
        "print(z)\n",
        "z.shape"
      ],
      "metadata": {
        "colab": {
          "base_uri": "https://localhost:8080/"
        },
        "id": "Ds-Iakh_-9sb",
        "outputId": "275de368-7d4f-465b-db33-d3767252f72c"
      },
      "execution_count": 22,
      "outputs": [
        {
          "output_type": "stream",
          "name": "stdout",
          "text": [
            "[[[1. 1. 1.]\n",
            "  [1. 1. 1.]]\n",
            "\n",
            " [[1. 1. 1.]\n",
            "  [1. 1. 1.]]]\n",
            "(2, 2, 3)\n",
            "[1 2 3]\n"
          ]
        },
        {
          "output_type": "execute_result",
          "data": {
            "text/plain": [
              "(3,)"
            ]
          },
          "metadata": {},
          "execution_count": 22
        }
      ]
    },
    {
      "cell_type": "code",
      "source": [
        "np.random.normal(0, 1, [2,2,3]) \n",
        "import matplotlib.pyplot as plt"
      ],
      "metadata": {
        "id": "1qVV3_q3_K8J"
      },
      "execution_count": 23,
      "outputs": []
    },
    {
      "cell_type": "markdown",
      "source": [
        "np.random.normal(평균, 표준편차, [a,b,c])"
      ],
      "metadata": {
        "id": "cTvs3pjE_PzK"
      }
    },
    {
      "cell_type": "code",
      "source": [
        "x = np.random.normal(0,1,50) \n",
        "print(x)\n",
        "plt.hist(x, bins=10)"
      ],
      "metadata": {
        "colab": {
          "base_uri": "https://localhost:8080/",
          "height": 508
        },
        "id": "AqQ-cjaq_Qsc",
        "outputId": "0ae89e4f-73d3-436b-e5f7-23edd86e7909"
      },
      "execution_count": 24,
      "outputs": [
        {
          "output_type": "stream",
          "name": "stdout",
          "text": [
            "[-1.64130915  0.3348236   0.29174022 -1.42293868 -1.2758909  -0.2566927\n",
            " -1.75178361  1.52646726  0.06847188  1.12367008 -0.39962002  0.10102876\n",
            " -0.76707698 -1.83147826  1.6455993   0.66850053  0.45202642 -2.01611469\n",
            "  0.13019663  0.46674639 -0.11455675  0.01798378 -0.76000242  0.47113125\n",
            "  0.20563943 -0.59123273  0.12108016  1.2533427  -1.16332725  0.49511428\n",
            " -0.78658895  1.65002934 -0.17526154  0.04830426 -0.74974342  0.44558083\n",
            "  0.67962882  0.53068135  0.44852108 -1.44499351  0.68444314  0.31188211\n",
            "  1.20109442 -0.34007901  0.37783359  0.16226288  0.87074814  0.74182491\n",
            "  0.78720279 -0.14972952]\n"
          ]
        },
        {
          "output_type": "execute_result",
          "data": {
            "text/plain": [
              "(array([ 3.,  3.,  2.,  5.,  3., 10., 12.,  6.,  3.,  3.]),\n",
              " array([-2.01611469, -1.64950029, -1.28288589, -0.91627148, -0.54965708,\n",
              "        -0.18304268,  0.18357172,  0.55018613,  0.91680053,  1.28341493,\n",
              "         1.65002934]),\n",
              " <a list of 10 Patch objects>)"
            ]
          },
          "metadata": {},
          "execution_count": 24
        },
        {
          "output_type": "display_data",
          "data": {
            "text/plain": [
              "<Figure size 432x288 with 1 Axes>"
            ],
            "image/png": "[encoded data removed]"
          },
          "metadata": {
            "needs_background": "light"
          }
        }
      ]
    },
    {
      "cell_type": "markdown",
      "source": [
        "(평균, 표준편차, 개수)\n",
        "bins = 막대수"
      ],
      "metadata": {
        "id": "0OLNEqfE_ZXp"
      }
    },
    {
      "cell_type": "code",
      "source": [
        "plt.figure()\n",
        "\n",
        "theta1 = np.linspace(0, 2*np.pi, 100) #pi = 3.14...\n",
        "s1 = np.sin(theta1)\n",
        "theta2 = np.linspace(0, 2*np.pi, 100)+ np.pi/2\n",
        "s2 = np.sin(theta2)\n",
        "theta3 = np.linspace(0, 2*np.pi, 50) - np.pi/2\n",
        "s3 = np.sin(theta3)\n",
        "\n",
        "plt.subplot(3, 1, 1)\n",
        "plt.plot(theta1, s1, '.') # (rows, columns, panel number)\n",
        "plt.subplot(3, 1, 2)\n",
        "plt.plot(theta2, s2, '.') # (rows, columns, panel number)"
      ],
      "metadata": {
        "colab": {
          "base_uri": "https://localhost:8080/",
          "height": 207
        },
        "id": "hJY380WH_okp",
        "outputId": "c7b1e4ec-6300-4e52-83d2-eac9c309380b"
      },
      "execution_count": 27,
      "outputs": [
        {
          "output_type": "execute_result",
          "data": {
            "text/plain": [
              "[<matplotlib.lines.Line2D at 0x7f8301d8bb50>]"
            ]
          },
          "metadata": {},
          "execution_count": 27
        },
        {
          "output_type": "display_data",
          "data": {
            "text/plain": [
              "<Figure size 432x288 with 2 Axes>"
            ],
            "image/png": "[encoded data removed]"
          },
          "metadata": {
            "needs_background": "light"
          }
        }
      ]
    },
    {
      "cell_type": "markdown",
      "source": [
        "Correlation coefficient\n",
        "\n",
        "Represented by r\n",
        "ㅣrㅣ 이 1에 가까워질수록 higher correlation, ㅣrㅣ 이 0 에 가까워질수록 no correlation (no line)\n",
        "\n",
        "positive = 정비례, negative = 반비례"
      ],
      "metadata": {
        "id": "8NN3bFQKCYuP"
      }
    },
    {
      "cell_type": "code",
      "source": [
        "np.corrcoef(s1,s2)  #1은 항상 1로 나와서 안봐도 되고 2.419는 둘이 똑같이 나와 그냥 2.419 만 "
      ],
      "metadata": {
        "colab": {
          "base_uri": "https://localhost:8080/"
        },
        "id": "mS6ieRm4BrEF",
        "outputId": "e78a2955-5625-49f4-9ee4-f7514ac2d1e4"
      },
      "execution_count": 28,
      "outputs": [
        {
          "output_type": "execute_result",
          "data": {
            "text/plain": [
              "array([[1.00000000e+00, 2.41915449e-17],\n",
              "       [2.41915449e-17, 1.00000000e+00]])"
            ]
          },
          "metadata": {},
          "execution_count": 28
        }
      ]
    }
  ]
}