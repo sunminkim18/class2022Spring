{
  "nbformat": 4,
  "nbformat_minor": 0,
  "metadata": {
    "colab": {
      "name": "20220425.ipynb",
      "provenance": [],
      "authorship_tag": "ABX9TyNsWY7nvS31zHHwc6h+1w/9",
      "include_colab_link": true
    },
    "kernelspec": {
      "name": "python3",
      "display_name": "Python 3"
    },
    "language_info": {
      "name": "python"
    }
  },
  "cells": [
    {
      "cell_type": "markdown",
      "metadata": {
        "id": "view-in-github",
        "colab_type": "text"
      },
      "source": [
        "<a href=\"https://colab.research.google.com/github/sunminkim18/class2022Spring/blob/main/20220425.ipynb\" target=\"_parent\"><img src=\"https://colab.research.google.com/assets/colab-badge.svg\" alt=\"Open In Colab\"/></a>"
      ]
    },
    {
      "cell_type": "markdown",
      "source": [
        "Auto correlation aka serial correlation\n",
        "*   자기 자신(auto)과의 상관성을 알아보고자 할 때 사용\n",
        "*   현재 값과 과거 값 사이의 관계를 측정하는 것\n",
        "*   -1에서 1의 사이에서 correlation 값이 나타남 ; correlation 높을 경우 미래의 값 예측 가능\n",
        "*   pitch를 추정할 때 사용"
      ],
      "metadata": {
        "id": "5BCG5_4l1WD3"
      }
    },
    {
      "cell_type": "markdown",
      "source": [
        "Root Mean Square (RMS)\n",
        "*   제곱평균제곱근\n",
        "*   함수에 있는 값들의 제곱에 대한 평균의 제곱근\n",
        "*   변수들이 - 과 + 을 골고루 왔다 갔다 할 때 그 정도를 알아볼 때 유용\n",
        "*   RMS의 error 통해 정밀도의 정도 (intensity)를 알아내기 가능"
      ],
      "metadata": {
        "id": "GC6mnlL61X4W"
      }
    }
  ]
}