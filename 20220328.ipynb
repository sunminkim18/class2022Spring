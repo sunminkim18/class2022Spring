{
  "nbformat": 4,
  "nbformat_minor": 0,
  "metadata": {
    "colab": {
      "name": "20220328.ipynb",
      "provenance": [],
      "authorship_tag": "ABX9TyP4DhxilbyjQDeUWy0BYjNy",
      "include_colab_link": true
    },
    "kernelspec": {
      "name": "python3",
      "display_name": "Python 3"
    },
    "language_info": {
      "name": "python"
    }
  },
  "cells": [
    {
      "cell_type": "markdown",
      "metadata": {
        "id": "view-in-github",
        "colab_type": "text"
      },
      "source": [
        "<a href=\"https://colab.research.google.com/github/sunminkim18/class2022Spring/blob/main/20220328.ipynb\" target=\"_parent\"><img src=\"https://colab.research.google.com/assets/colab-badge.svg\" alt=\"Open In Colab\"/></a>"
      ]
    },
    {
      "cell_type": "code",
      "execution_count": null,
      "metadata": {
        "id": "5O8Z39Oy8pc8"
      },
      "outputs": [],
      "source": [
        "!pip install gradio\n",
        "import gradio as gr\n",
        "import requests\n",
        "import pandas as pd"
      ]
    },
    {
      "cell_type": "code",
      "source": [
        "def jaywalking_accidents(Year): \n",
        "\n",
        "  URL = ('http://apis.data.go.kr/B552061/jaywalking/'\n",
        "  'getRestJaywalking?'\n",
        "  '&ServiceKey=rhZg%2BUpTzcfCC%2BtC4TKjx7HfbeuVDWyqTpP2k%2BVQPvn322CVCMRHI1sIPs7NbyBj7Fby%2B7e8lww%2FzciR5BaQ6w%3D%3D'\n",
        "  '&searchYearCd='+Year+\n",
        "  '&siDo=11'\n",
        "  '&guGun=305'\n",
        "  '&type=json'\n",
        "  '&numOfRows=10'\n",
        "  '&pageNo=1')\n",
        "\n",
        "  response = requests.get(URL)\n",
        "  r = response.json()\n",
        "\n",
        "  items = r['items']['item']\n",
        "  location = [a['spot_nm'] for a in items]\n",
        "  occurences = [a['occrrnc_cnt'] for a in items]\n",
        "  casualties = [a['caslt_cnt'] for a in items]\n",
        "  deaths = [a['dth_dnv_cnt'] for a in items]\n",
        "  severecases = [a['se_dnv_cnt'] for a in items]\n",
        "  slightcases = [a['sl_dnv_cnt'] for a in items]\n",
        "  \n",
        "  location = pd.Series(location)\n",
        "  occurences = pd.Series(occurences)\n",
        "  casualties = pd.Series(casualties)\n",
        "  deaths = pd.Series(deaths)\n",
        "  severecases = pd.Series(severecases)\n",
        "  slightcases = pd.Series(slightcases)\n",
        "  \n",
        "  df = pd.DataFrame({'사고위치':location, '발생건수':occurences, '사상자수':casualties, '사망자수':deaths, '중상자수':severecases, '경상자수':slightcases})\n",
        "\n",
        "  return df"
      ],
      "metadata": {
        "id": "kwxc_Xk484yM"
      },
      "execution_count": null,
      "outputs": []
    },
    {
      "cell_type": "code",
      "source": [
        "iface = gr.Interface(jaywalking_accidents, gr.inputs.Dropdown(['2016', '2017', '2018', '2019', '2020', '2021','2022']), outputs=['dataframe'])\n",
        "iface.launch(debug=True)"
      ],
      "metadata": {
        "colab": {
          "base_uri": "https://localhost:8080/",
          "height": 591
        },
        "id": "GLYKFXNn9vyw",
        "outputId": "731dbb50-4af0-4930-be0b-027a0ee4521d"
      },
      "execution_count": null,
      "outputs": [
        {
          "output_type": "stream",
          "name": "stdout",
          "text": [
            "Colab notebook detected. This cell will run indefinitely so that you can see errors and logs. To turn off, set debug=False in launch().\n",
            "Running on public URL: https://12623.gradio.app\n",
            "\n",
            "This share link expires in 72 hours. For free permanent hosting, check out Spaces (https://huggingface.co/spaces)\n"
          ]
        },
        {
          "output_type": "display_data",
          "data": {
            "text/plain": [
              "<IPython.lib.display.IFrame at 0x7f0b07183ed0>"
            ],
            "text/html": [
              "\n",
              "        <iframe\n",
              "            width=\"900\"\n",
              "            height=\"500\"\n",
              "            src=\"https://12623.gradio.app\"\n",
              "            frameborder=\"0\"\n",
              "            allowfullscreen\n",
              "        ></iframe>\n",
              "        "
            ]
          },
          "metadata": {}
        }
      ]
    }
  ]
}